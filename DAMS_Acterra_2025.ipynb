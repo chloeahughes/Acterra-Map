{
  "nbformat": 4,
  "nbformat_minor": 0,
  "metadata": {
    "colab": {
      "provenance": []
    },
    "kernelspec": {
      "name": "ir",
      "display_name": "R"
    },
    "language_info": {
      "name": "R"
    }
  },
  "cells": [
    {
      "cell_type": "markdown",
      "source": [
        "**Section 221**\n",
        "\n",
        "Data cleaning prep:\n",
        "1. find any na values\n",
        "2. Standardize column names:\n",
        "3. remove redundant columns (County_Name & county_town_name) / other formatting issues\n",
        "4. ensure column names are represented correctly as objects (categorical vs numerical)\n",
        "5. add geographic identifier\n",
        "6. aggregate standardized data by county\n",
        "7. normalized income eligibility threshold"
      ],
      "metadata": {
        "id": "_bGPTTBBLWgD"
      }
    },
    {
      "cell_type": "code",
      "execution_count": null,
      "metadata": {
        "colab": {
          "base_uri": "https://localhost:8080/"
        },
        "id": "E2rkkn0B9g1h",
        "outputId": "42374cde-4382-40ba-81ea-70a2557b6949"
      },
      "outputs": [
        {
          "output_type": "stream",
          "name": "stderr",
          "text": [
            "\n",
            "Attaching package: ‘dplyr’\n",
            "\n",
            "\n",
            "The following objects are masked from ‘package:stats’:\n",
            "\n",
            "    filter, lag\n",
            "\n",
            "\n",
            "The following objects are masked from ‘package:base’:\n",
            "\n",
            "    intersect, setdiff, setequal, union\n",
            "\n",
            "\n",
            "\n",
            "Attaching package: ‘scales’\n",
            "\n",
            "\n",
            "The following object is masked from ‘package:readr’:\n",
            "\n",
            "    col_factor\n",
            "\n",
            "\n",
            "\u001b[1mRows: \u001b[22m\u001b[34m4764\u001b[39m \u001b[1mColumns: \u001b[22m\u001b[34m35\u001b[39m\n",
            "\u001b[36m──\u001b[39m \u001b[1mColumn specification\u001b[22m \u001b[36m────────────────────────────────────────────────────────\u001b[39m\n",
            "\u001b[1mDelimiter:\u001b[22m \",\"\n",
            "\u001b[31mchr\u001b[39m  (9): fips, State_Alpha, state, state_name, hud_area_code, hud_area_name...\n",
            "\u001b[32mdbl\u001b[39m (26): metro, median2024, S236_1, S236_2, S236_3, S236_4, S236_5, S236_6,...\n",
            "\n",
            "\u001b[36mℹ\u001b[39m Use `spec()` to retrieve the full column specification for this data.\n",
            "\u001b[36mℹ\u001b[39m Specify the column types or set `show_col_types = FALSE` to quiet this message.\n"
          ]
        }
      ],
      "source": [
        "library(dplyr)\n",
        "library(readr)\n",
        "library(stringr)\n",
        "library(scales)\n",
        "\n",
        "df <- read_csv(\"/content/section221.csv\")\n",
        "colnames(df) <- tolower(gsub(\" \", \"_\", colnames(df)))\n",
        "\n",
        "#3\n",
        "df <- df %>%\n",
        "  mutate(\n",
        "    county_name = str_to_title(str_trim(county_name)),\n",
        "    county_town_name = str_to_title(str_trim(county_town_name))\n",
        "  )\n",
        "\n",
        "#4\n",
        "categorical_cols <- c(\"state_alpha\", \"state_name\", \"hud_area_code\", \"hud_area_name\", \"county_name\", \"county_town_name\")\n",
        "df[categorical_cols] <- lapply(df[categorical_cols], as.character)  # Convert to character type\n",
        "numerical_cols <- c(\"fips\", \"state\", \"county\", \"median2024\", grep(\"s236|s235|bmir\", names(df), value = TRUE))\n",
        "df[numerical_cols] <- lapply(df[numerical_cols], as.numeric)\n",
        "\n",
        "#3\n",
        "df <- df %>% distinct()\n",
        "\n",
        "#5\n",
        "df <- df %>%\n",
        "  mutate(geo_key = str_trim(paste(county_name, state_alpha, sep = \", \")))\n",
        "\n",
        "#6\n",
        "df_summary <- df %>%\n",
        "  group_by(county_name) %>%\n",
        "  summarise(\n",
        "    median2024 = mean(median2024, na.rm = TRUE),\n",
        "    s236_1 = mean(s236_1, na.rm = TRUE),\n",
        "    s235_1 = mean(s235_1, na.rm = TRUE),\n",
        "    bmir_1 = mean(bmir_1, na.rm = TRUE)\n",
        "  )\n",
        "\n",
        "#6 with state\n",
        "df_state_summary <- df %>%\n",
        "  group_by(state_alpha) %>%\n",
        "  summarise(\n",
        "    median2024 = mean(median2024, na.rm = TRUE),\n",
        "    s236_1 = mean(s236_1, na.rm = TRUE),\n",
        "    s235_1 = mean(s235_1, na.rm = TRUE),\n",
        "    bmir_1 = mean(bmir_1, na.rm = TRUE)\n",
        "  )\n",
        "\n",
        "#7\n",
        "df <- df %>%\n",
        "  mutate(income_percentile = (median2024 - min(median2024, na.rm = TRUE)) /\n",
        "                             (max(median2024, na.rm = TRUE) - min(median2024, na.rm = TRUE)))\n",
        "\n",
        "#7\n",
        "income_cols <- c(\"median2024\", grep(\"s236|s235|bmir\", names(df), value = TRUE))\n",
        "\n",
        "df[income_cols] <- as.data.frame(lapply(df[income_cols], function(x) rescale(x, to = c(0, 1))))\n",
        "\n",
        "#save clean dataset\n",
        "write_csv(df, \"/content/cleaned_section221.csv\")\n",
        "write_csv(df_summary, \"/content/county_summary.csv\")\n",
        "write_csv(df_state_summary, \"/content/state_summary.csv\")\n"
      ]
    }
  ]
}